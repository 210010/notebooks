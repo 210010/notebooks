{
  "nbformat": 4,
  "nbformat_minor": 0,
  "metadata": {
    "colab": {
      "name": "mini_sinkhorn.ipynb",
      "version": "0.3.2",
      "provenance": [],
      "collapsed_sections": [],
      "toc_visible": true,
      "include_colab_link": true
    },
    "kernelspec": {
      "name": "python3",
      "display_name": "Python 3"
    },
    "accelerator": "GPU"
  },
  "cells": [
    {
      "cell_type": "markdown",
      "metadata": {
        "id": "view-in-github",
        "colab_type": "text"
      },
      "source": [
        "<a href=\"https://colab.research.google.com/github/znah/notebooks/blob/master/mini_sinkhorn.ipynb\" target=\"_parent\"><img src=\"https://colab.research.google.com/assets/colab-badge.svg\" alt=\"Open In Colab\"/></a>"
      ]
    },
    {
      "cell_type": "markdown",
      "metadata": {
        "id": "d4mUI3sYZ2zs",
        "colab_type": "text"
      },
      "source": [
        "# Sinkhorn iteration for optimal transport with Tensorflow"
      ]
    },
    {
      "cell_type": "code",
      "metadata": {
        "id": "FB8I0u-H78GA",
        "colab_type": "code",
        "colab": {}
      },
      "source": [
        "import numpy as np\n",
        "import pylab as pl\n",
        "import PIL.Image, PIL.ImageDraw, PIL.ImageFont\n",
        "import cv2\n",
        "from IPython.display import clear_output\n",
        "\n",
        "from lucid.misc.io import showing as show\n",
        "\n",
        "import moviepy.editor as mvp\n",
        "from moviepy.video.io.ffmpeg_writer import FFMPEG_VideoWriter\n",
        "\n",
        "import tensorflow as tf\n",
        "tf.enable_eager_execution()"
      ],
      "execution_count": 0,
      "outputs": []
    },
    {
      "cell_type": "code",
      "metadata": {
        "id": "FHrCrL6mWzIf",
        "colab_type": "code",
        "colab": {}
      },
      "source": [
        "def gen_points(s, font_size=42):\n",
        "  font = PIL.ImageFont.truetype('/usr/share/fonts/truetype/liberation/LiberationMono-Regular.ttf', font_size)\n",
        "  w, h = font.getsize(s)\n",
        "  im = PIL.Image.new('L', (w, h))\n",
        "  draw  = PIL.ImageDraw.Draw(im)\n",
        "  draw.text((0, 0), s, fill=255, font=font)\n",
        "  im = np.uint8(im)\n",
        "  y, x = np.float32(im.nonzero())\n",
        "  pos = np.column_stack([x, y])\n",
        "  if len(pos) > 0:\n",
        "    pos -= (w/2, h/2)\n",
        "    pos /= font_size\n",
        "  return pos\n"
      ],
      "execution_count": 0,
      "outputs": []
    },
    {
      "cell_type": "code",
      "metadata": {
        "id": "mP68HY4Bric5",
        "colab_type": "code",
        "colab": {}
      },
      "source": [
        "# along the lines of\n",
        "# https://nbviewer.jupyter.org/github/gpeyre/numerical-tours/blob/master/python/optimaltransp_6_entropic_adv.ipynb\n",
        "\n",
        "@tf.function\n",
        "def pdist(x, y):\n",
        "  dx = x[:, None, :] - y[None, :, :]\n",
        "  return tf.reduce_sum(tf.square(dx), -1)\n",
        "\n",
        "@tf.function\n",
        "def Sinkhorn_step(C, f):\n",
        "  g = tf.reduce_logsumexp(-f-tf.transpose(C), -1)\n",
        "  f = tf.reduce_logsumexp(-g-C, -1)\n",
        "  return f, g\n",
        "\n",
        "def Sinkhorn(C, f=None, niter=1000):\n",
        "  n = tf.shape(C)[0]\n",
        "  if f is None:\n",
        "    f = tf.zeros(n, np.float32)\n",
        "  for i in range(niter):\n",
        "    f, g = Sinkhorn_step(C, f)\n",
        "  P = tf.exp(-f[:,None]-g[None,:]-C)/tf.cast(n, tf.float32)\n",
        "  return P, f, g"
      ],
      "execution_count": 0,
      "outputs": []
    },
    {
      "cell_type": "code",
      "metadata": {
        "id": "kBE53BfIJfhx",
        "colab_type": "code",
        "colab": {}
      },
      "source": [
        "VIDEO_SIZE = 512\n",
        "\n",
        "def draw_points(p):\n",
        "  w = VIDEO_SIZE\n",
        "  img = np.zeros((w, w, 3), np.uint8)\n",
        "  #img[:] = 255\n",
        "  p = np.int32((w/2+p*w*0.9)*4)\n",
        "  for x, y in p:\n",
        "    cv2.circle(img, (x, y), 12, (255, 255, 255), -1, cv2.CV_AA, shift=2)\n",
        "  return img\n",
        "\n",
        "t = np.linspace(0, 2*np.pi, 256)\n",
        "x = 16*np.sin(t)**3\n",
        "y = 13*np.cos(t)-5*np.cos(2*t)-2*np.cos(3*t)-np.cos(4*t)\n",
        "pos0 = np.float32(np.column_stack([x*0.03, -y*0.03]))\n",
        "\n",
        "show.image(draw_points(pos0)/255.0)\n"
      ],
      "execution_count": 0,
      "outputs": []
    },
    {
      "cell_type": "code",
      "metadata": {
        "id": "Tf53CGLvKNya",
        "colab_type": "code",
        "colab": {
          "base_uri": "https://localhost:8080/",
          "height": 34
        },
        "outputId": "96aa7a3c-14d7-4f3d-e1a7-3dd40af8bae4"
      },
      "source": [
        "pos = pos0.copy()\n",
        "\n",
        "with FFMPEG_VideoWriter('out.mp4', (VIDEO_SIZE, VIDEO_SIZE), 60.0) as video:\n",
        "  video.write_frame(draw_points(pos))\n",
        "  f = None\n",
        "  for s in 'ILOVEU ':\n",
        "    target = gen_points(s) if s != ' ' else pos0\n",
        "    for i in range(80):\n",
        "      C = pdist(pos, target)/(0.01)**2\n",
        "      P, f, g = Sinkhorn(C, f=f, niter=20)\n",
        "      P = P.numpy()\n",
        "      g = P.dot(target)*len(pos)-pos\n",
        "      pos += 0.1*g\n",
        "      frame = draw_points(pos)\n",
        "      video.write_frame(frame)\n",
        "    print(s, end='', flush=True)\n",
        "\n",
        "    "
      ],
      "execution_count": 109,
      "outputs": [
        {
          "output_type": "stream",
          "text": [
            "ILOVEU "
          ],
          "name": "stdout"
        }
      ]
    },
    {
      "cell_type": "code",
      "metadata": {
        "id": "T-5ux-znNwB6",
        "colab_type": "code",
        "colab": {}
      },
      "source": [
        "mvp.ipython_display('out.mp4', loop=True)"
      ],
      "execution_count": 0,
      "outputs": []
    },
    {
      "cell_type": "code",
      "metadata": {
        "id": "mMt9chVqOkZh",
        "colab_type": "code",
        "colab": {}
      },
      "source": [
        ""
      ],
      "execution_count": 0,
      "outputs": []
    }
  ]
}