{
 "metadata": {
  "name": ""
 },
 "nbformat": 3,
 "nbformat_minor": 0,
 "worksheets": [
  {
   "cells": [
    {
     "cell_type": "heading",
     "level": 1,
     "metadata": {},
     "source": [
      "Hilbert curve indexing"
     ]
    },
    {
     "cell_type": "markdown",
     "metadata": {},
     "source": [
      "Recently I wanted to generate [hilbert curve](http://en.wikipedia.org/wiki/Hilbert_curve) indexing of 2D array as a part of one experiment. The experiment wasn't very successful itself, but I found the resulting Python code for curve generation prety neat to post it.\n",
      "\n",
      "Here are a couple of interesting references on space-filling curve construction and theis applications:\n",
      "\n",
      "* http://blog.notdot.net/2009/11/Damn-Cool-Algorithms-Spatial-indexing-with-Quadtrees-and-Hilbert-Curves\n",
      "* http://www.win.tue.nl/~hermanh/stack/dagstuhl08-talk.pdf"
     ]
    },
    {
     "cell_type": "markdown",
     "metadata": {},
     "source": [
      "So let's write some code!"
     ]
    },
    {
     "cell_type": "code",
     "collapsed": false,
     "input": [
      "def hilbert_curve(n):\n",
      "    ''' Generate Hilbert curve indexing for (n, n) array. 'n' must be a power of two. '''\n",
      "    # recursion base\n",
      "    if n == 1:  \n",
      "        return zeros((1, 1), int32)\n",
      "    # make (n/2, n/2) index\n",
      "    t = hilbert_curve(n//2)\n",
      "    # flip it four times and add index offsets\n",
      "    a = flipud(rot90(t))\n",
      "    b = t + t.size\n",
      "    c = t + t.size*2\n",
      "    d = flipud(rot90(t, -1)) + t.size*3\n",
      "    # and stack four tiles into resulting array\n",
      "    return vstack(map(hstack, [[a, b], [d, c]]))   "
     ],
     "language": "python",
     "metadata": {},
     "outputs": [],
     "prompt_number": 2
    },
    {
     "cell_type": "markdown",
     "metadata": {},
     "source": [
      "That's it. Lets try some small *n* values."
     ]
    },
    {
     "cell_type": "code",
     "collapsed": false,
     "input": [
      "print hilbert_curve(2)"
     ],
     "language": "python",
     "metadata": {},
     "outputs": [
      {
       "output_type": "stream",
       "stream": "stdout",
       "text": [
        "[[0 1]\n",
        " [3 2]]\n"
       ]
      }
     ],
     "prompt_number": 3
    },
    {
     "cell_type": "code",
     "collapsed": false,
     "input": [
      "print hilbert_curve(4)"
     ],
     "language": "python",
     "metadata": {},
     "outputs": [
      {
       "output_type": "stream",
       "stream": "stdout",
       "text": [
        "[[ 0  3  4  5]\n",
        " [ 1  2  7  6]\n",
        " [14 13  8  9]\n",
        " [15 12 11 10]]\n"
       ]
      }
     ],
     "prompt_number": 4
    },
    {
     "cell_type": "markdown",
     "metadata": {},
     "source": [
      "Now let's show the generated indices with color. Note, how nearby cells tend to have close indices. That's why such curves are useful for spatial indexing."
     ]
    },
    {
     "cell_type": "code",
     "collapsed": false,
     "input": [
      "_=imshow(hilbert_curve(64), interpolation='nearest')"
     ],
     "language": "python",
     "metadata": {},
     "outputs": [
      {
       "metadata": {},
       "output_type": "display_data",
       "png": "[encoded data removed]",
       "text": [
        "<matplotlib.figure.Figure at 0x7d2b1d0>"
       ]
      }
     ],
     "prompt_number": 5
    },
    {
     "cell_type": "markdown",
     "metadata": {},
     "source": [
      "Ok, time to plot the curve itself."
     ]
    },
    {
     "cell_type": "code",
     "collapsed": false,
     "input": [
      "idx = hilbert_curve(32)\n",
      "y, x = indices(idx.shape).reshape(2, -1)\n",
      "x[idx.ravel()], y[idx.ravel()] = x.copy(), y.copy()\n",
      "\n",
      "plot(x, y)\n",
      "axis('equal')\n",
      "axis('off')\n",
      "_=ylim(ymin=-1)"
     ],
     "language": "python",
     "metadata": {},
     "outputs": [
      {
       "metadata": {},
       "output_type": "display_data",
       "png": "[encoded data removed]",
       "text": [
        "<matplotlib.figure.Figure at 0x7d1bf98>"
       ]
      }
     ],
     "prompt_number": 6
    },
    {
     "cell_type": "code",
     "collapsed": false,
     "input": [
      "#setup\n",
      "figsize(8, 8)"
     ],
     "language": "python",
     "metadata": {},
     "outputs": [],
     "prompt_number": 1
    }
   ],
   "metadata": {}
  }
 ]
}