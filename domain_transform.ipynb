{
 "metadata": {
  "name": "",
  "signature": "sha256:d9aac7bc6138e48e4b5e239c7daeba305f1661c308edeb9a3c657ceb23f52da2"
 },
 "nbformat": 3,
 "nbformat_minor": 0,
 "worksheets": [
  {
   "cells": [
    {
     "cell_type": "code",
     "collapsed": false,
     "input": [
      "%matplotlib inline\n",
      "%load_ext cythonmagic\n",
      "from IPython.html.widgets import interact\n",
      "import numpy as np\n",
      "import cv2\n",
      "from nbutils import showarray    \n",
      "import pylab as pl"
     ],
     "language": "python",
     "metadata": {},
     "outputs": []
    },
    {
     "cell_type": "code",
     "collapsed": false,
     "input": [
      "img = np.float32(cv2.imread('data/statue.png'))"
     ],
     "language": "python",
     "metadata": {},
     "outputs": []
    },
    {
     "cell_type": "code",
     "collapsed": false,
     "input": [
      "%%cython\n",
      "# cython:boundscheck=False\n",
      "# cython:wraparound=False\n",
      "import numpy as np\n",
      "\n",
      "\n",
      "def lineRF(float[:,:,:] dst, float[:,:] dt, float a):\n",
      "    cdef int i, j\n",
      "    cdef float s\n",
      "    cdef int h = dst.shape[0], w = dst.shape[1], cn = dst.shape[2]\n",
      "    for i in xrange(h):\n",
      "        for j in xrange(1, w):\n",
      "            s = a**dt[i,j-1]\n",
      "            for c in xrange(cn):\n",
      "                dst[i,j,c] += s*(dst[i,j-1,c]-dst[i,j,c])\n",
      "                \n",
      "                \n",
      "def lineNC(float[:,:,:] src, float[:,:] ct, float r):\n",
      "    cdef int w = src.shape[1], cn = src.shape[2]\n",
      "    np_dst = np.zeros_like(src)\n",
      "    cdef float[:,:,:] dst = np_dst\n",
      "    cdef float t = 0.0\n",
      "    cdef int left, right\n",
      "    cdef float v[32]\n",
      "    for i in xrange(src.shape[0]):\n",
      "        for c in xrange(cn):\n",
      "            v[c] = 0.0\n",
      "        left, right = 0, 0\n",
      "        for j in xrange(w):\n",
      "            t = ct[i,j]\n",
      "            while ct[i,left] < t-r:\n",
      "                for c in xrange(cn):\n",
      "                    v[c] -= src[i,left,c]\n",
      "                left += 1\n",
      "            while right < w and ct[i,right] < t+r:\n",
      "                for c in xrange(cn):\n",
      "                    v[c] += src[i,right,c]\n",
      "                right += 1\n",
      "            for c in xrange(cn):\n",
      "                dst[i,j,c] = v[c] / (right-left)\n",
      "    return np_dst\n"
     ],
     "language": "python",
     "metadata": {},
     "outputs": []
    },
    {
     "cell_type": "code",
     "collapsed": false,
     "input": [
      "def DTfilter(I, sigma_s, sigma_r, G=None, iter_n=3, method='RF'):\n",
      "    I = np.float32(I)\n",
      "    Ishape = I.shape\n",
      "    if G is None:\n",
      "        G = I\n",
      "    G = np.float32(G)\n",
      "    I, G = np.atleast_3d(I, G)\n",
      "\n",
      "    def tr(a):\n",
      "        return np.swapaxes(a, 0, 1)\n",
      "    \n",
      "    dIdx = np.abs(np.diff(G, axis=1)).sum(-1)\n",
      "    dIdy = np.abs(np.diff(G, axis=0)).sum(-1)\n",
      "    dHdx = (1 + sigma_s/sigma_r * dIdx)\n",
      "    dVdy = (1 + sigma_s/sigma_r * dIdy)\n",
      "    dVdyT = tr(dVdy).copy()\n",
      "    \n",
      "    if method != 'RF':\n",
      "        ctH = np.zeros_like(dHdx)\n",
      "        ctVT = np.zeros_like(dVdyT)\n",
      "        ctH[:,1:] = dHdx[:,:-1].cumsum(1)\n",
      "        ctVT[:,1:] = dVdyT[:,:-1].cumsum(1)\n",
      "    if method == 'RF':\n",
      "        I = I.copy()\n",
      "    \n",
      "    for i in xrange(iter_n):\n",
      "        sigma_H_i = sigma_s * np.sqrt(3) * 2**(iter_n - (i + 1)) / np.sqrt(4**iter_n - 1)\n",
      "        \n",
      "        if method == 'RF':\n",
      "            a = np.exp(-np.sqrt(2) / sigma_H_i)\n",
      "            lineRF(I, dHdx, a)\n",
      "            lineRF(I[:,::-1], dHdx[:,::-1], a)\n",
      "            lineRF(tr(I), dVdyT, a)\n",
      "            lineRF(tr(I)[:,::-1], dVdyT[:,::-1], a)\n",
      "        elif method == 'NC':\n",
      "            r = np.sqrt(3)*sigma_H_i\n",
      "            I = lineNC(I, ctH, r)\n",
      "            I = tr(lineNC(tr(I), ctVT, r))\n",
      "        else:\n",
      "            assert False, 'unknown filtering method \"%s\"' % method\n",
      "    return I.reshape(Ishape)\n"
     ],
     "language": "python",
     "metadata": {},
     "outputs": []
    },
    {
     "cell_type": "code",
     "collapsed": false,
     "input": [
      "def show_filter(sigma_s=10, sigma_r=300.0, method='RF'):\n",
      "    res = DTfilter(img, sigma_s, sigma_r, method=method)\n",
      "    showarray(res)\n",
      "interact(show_filter, sigma_s=(1,50), sigma_r=(1.0,1000.0), method=['RF', 'NC'])"
     ],
     "language": "python",
     "metadata": {},
     "outputs": []
    },
    {
     "cell_type": "code",
     "collapsed": false,
     "input": [
      "G = img[100:400,100:400]"
     ],
     "language": "python",
     "metadata": {},
     "outputs": []
    },
    {
     "cell_type": "code",
     "collapsed": false,
     "input": [
      "def show(x, y, sigma_s=10, sigma_r=300.0, method='RF'):\n",
      "    a = np.zeros((300, 300), np.float32)\n",
      "    a[y, x] = 1\n",
      "    b = DTfilter(a, sigma_s, sigma_r, G=G)\n",
      "    showarray(G)\n",
      "    showarray(b/b.max()*255)\n",
      "interact(show, x=(0,299), y=(0,299), sigma_s=(1,500), sigma_r=(1.0,1000.0), method=['RF', 'NC'])"
     ],
     "language": "python",
     "metadata": {},
     "outputs": []
    },
    {
     "cell_type": "code",
     "collapsed": false,
     "input": [],
     "language": "python",
     "metadata": {},
     "outputs": []
    }
   ],
   "metadata": {}
  }
 ]
}