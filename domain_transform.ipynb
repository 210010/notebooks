{
 "metadata": {
  "name": "",
  "signature": "sha256:8c548da0ac36e8d37a261b4b60ec4ae0fcd5e58021ce1a0f8eabd98b057aefd5"
 },
 "nbformat": 3,
 "nbformat_minor": 0,
 "worksheets": [
  {
   "cells": [
    {
     "cell_type": "code",
     "collapsed": false,
     "input": [
      "%matplotlib inline\n",
      "%load_ext cythonmagic\n",
      "from IPython.html.widgets import interact\n",
      "import numpy as np\n",
      "import cv2\n",
      "from nbutils import showarray    \n",
      "import pylab as pl"
     ],
     "language": "python",
     "metadata": {},
     "outputs": []
    },
    {
     "cell_type": "code",
     "collapsed": false,
     "input": [
      "img = np.float32(cv2.imread('data/statue.png')) / 255.0"
     ],
     "language": "python",
     "metadata": {},
     "outputs": []
    },
    {
     "cell_type": "code",
     "collapsed": false,
     "input": [
      "%%cython\n",
      "# cython:boundscheck=False\n",
      "# cython:wraparound=False\n",
      "\n",
      "cdef lineNC(float[:,::1] dst, float[:,::1] src, float[:] ct, float r):\n",
      "    cdef float t = 0.0\n",
      "    cdef int left = 0, right = 0\n",
      "    cdef int w = dst.shape[0], cn = dst.shape[1]\n",
      "    cdef float v[32]\n",
      "    for c in xrange(cn):\n",
      "        v[c] = 0.0 \n",
      "    for i in xrange(w):\n",
      "        t = ct[i]\n",
      "        while ct[left] < t-r:\n",
      "            for c in xrange(cn):\n",
      "                v[c] -= src[left,c]\n",
      "            left += 1\n",
      "        while right < w and ct[right] < t+r:\n",
      "            for c in xrange(cn):\n",
      "                v[c] += src[right,c]\n",
      "            right += 1\n",
      "        for c in xrange(cn):\n",
      "            dst[i,c] = v[c]\n",
      "\n",
      "            \n",
      "def lineRF(float[:,:,:] dst, float[:,:] dt, float a):\n",
      "    cdef int i, j\n",
      "    cdef float s\n",
      "    for i in xrange(dst.shape[0]):\n",
      "        for j in xrange(1, dst.shape[1]):\n",
      "            s = a**dt[i,j-1]\n",
      "            for c in xrange(dst.shape[2]):\n",
      "                dst[i,j,c] += s*(dst[i,j-1,c]-dst[i,j,c])"
     ],
     "language": "python",
     "metadata": {},
     "outputs": []
    },
    {
     "cell_type": "code",
     "collapsed": false,
     "input": [
      "def filterRF(I, sigma_s, sigma_r, G=None, iter_n=3):\n",
      "    I = I.astype(np.float32)\n",
      "    if G is None:\n",
      "        G = I\n",
      "    G = np.float32(G)\n",
      "\n",
      "    dIdx = np.abs(np.diff(G, axis=1)).sum(-1)\n",
      "    dIdy = np.abs(np.diff(G, axis=0)).sum(-1)\n",
      "    dHdx = (1 + sigma_s/sigma_r * dIdx)\n",
      "    dVdy = (1 + sigma_s/sigma_r * dIdy)\n",
      "\n",
      "    def tr(a):\n",
      "        return np.swapaxes(a, 0, 1)\n",
      "\n",
      "    dVdyT = tr(dVdy).copy()\n",
      "    #dHdxT = tr(dHdx).copy()\n",
      "    for i in xrange(iter_n):\n",
      "        sigma_H_i = sigma_s * np.sqrt(3) * 2**(iter_n - (i + 1)) / np.sqrt(4**iter_n - 1)\n",
      "        a = np.exp(-np.sqrt(2) / sigma_H_i)\n",
      "        \n",
      "        lineRF(I, dHdx, a)\n",
      "        lineRF(I[::-1], dHdx[::-1], a)\n",
      "        lineRF(tr(I), dVdyT, a)\n",
      "        lineRF(tr(I)[::-1], dVdyT[::1], a)\n",
      "    return I\n"
     ],
     "language": "python",
     "metadata": {},
     "outputs": []
    },
    {
     "cell_type": "code",
     "collapsed": false,
     "input": [
      "%timeit filterRF(img, 20, 0.2, iter_n=3)"
     ],
     "language": "python",
     "metadata": {},
     "outputs": []
    },
    {
     "cell_type": "code",
     "collapsed": false,
     "input": [
      "interact(lambda **kw : showarray((filterRF(img, **kw))*255), \n",
      "         sigma_s=(0,50), sigma_r=(0.01,10.0, 0.01))"
     ],
     "language": "python",
     "metadata": {},
     "outputs": []
    },
    {
     "cell_type": "code",
     "collapsed": false,
     "input": [
      "a = np.zeros((1024, 1024, 3), np.float32)\n",
      "%timeit f(a)\n"
     ],
     "language": "python",
     "metadata": {},
     "outputs": []
    },
    {
     "cell_type": "code",
     "collapsed": false,
     "input": [
      "t = np.ones(1024*1024, np.float32)\n",
      "#%timeit t.cumsum()"
     ],
     "language": "python",
     "metadata": {},
     "outputs": []
    },
    {
     "cell_type": "code",
     "collapsed": false,
     "input": [
      "%timeit csum(t)"
     ],
     "language": "python",
     "metadata": {},
     "outputs": []
    }
   ],
   "metadata": {}
  }
 ]
}